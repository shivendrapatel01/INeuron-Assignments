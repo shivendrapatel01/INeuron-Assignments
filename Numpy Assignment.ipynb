{
 "cells": [
  {
   "cell_type": "markdown",
   "metadata": {},
   "source": [
    "# Alexandre Theophile Vandermonde Matrix\n",
    "Write a function so that the columns of the output matrix are powers of the input\n",
    "vector.\n",
    "The order of the powers is determined by the increasing boolean argument. Specifically, when\n",
    "increasing is False, the i-th output column is the input vector raised element-wise to the power\n",
    "of N - i - 1."
   ]
  },
  {
   "cell_type": "code",
   "execution_count": 23,
   "metadata": {},
   "outputs": [
    {
     "name": "stdout",
     "output_type": "stream",
     "text": [
      "The input vecto is : [1 2 3 4] \n",
      "\n",
      "The size of input vector (N) is : 4 \n",
      "\n",
      "The Vandermonde Matrix when increasing is True : \n",
      "\n",
      " [[ 1  1  1  1]\n",
      " [ 1  2  4  8]\n",
      " [ 1  3  9 27]\n",
      " [ 1  4 16 64]] \n",
      "\n",
      "The Vandermonde Matrix when increasing is False : \n",
      "\n",
      " [[ 1  1  1  1]\n",
      " [ 8  4  2  1]\n",
      " [27  9  3  1]\n",
      " [64 16  4  1]]\n"
     ]
    }
   ],
   "source": [
    "import numpy as np\n",
    "\n",
    "def vand_mat(ip_vector, increasing=False):\n",
    "    N=ip_vector.size\n",
    "    if increasing == False:\n",
    "        op_matrix=np.array([x**(N-i-1) for x in ip_vector for i in range(N)]).reshape(N,N)\n",
    "    elif increasing == True:\n",
    "        op_matrix=np.array([x**i for x in ip_vector for i in range(N)]).reshape(N,N)\n",
    "    return op_matrix\n",
    "\n",
    "# the function will return a matrix of N by N, where N is the total number of elements in input vector\n",
    "ip_vector= np.array([1,2,3,4,])\n",
    "print(\"The input vecto is :\", ip_vector, \"\\n\")\n",
    "print(\"The size of input vector (N) is :\", ip_vector.size, '\\n')\n",
    "print(\"The Vandermonde Matrix when increasing is True : \\n\\n\",vand_mat(ip_vector, True), \"\\n\")\n",
    "print(\"The Vandermonde Matrix when increasing is False : \\n\\n\",vand_mat(ip_vector, False))"
   ]
  },
  {
   "cell_type": "code",
   "execution_count": 25,
   "metadata": {},
   "outputs": [
    {
     "name": "stdout",
     "output_type": "stream",
     "text": [
      "The input vecto is : [1 2 3 5] \n",
      "\n",
      "The size of input vector (N) is : 4 \n",
      "\n",
      "The Vandermonde Matrix when increasing is False : \n",
      "\n",
      " [[  1   1   1   1]\n",
      " [  8   4   2   1]\n",
      " [ 27   9   3   1]\n",
      " [125  25   5   1]] \n",
      "\n",
      "The Vandermonde Matrix when increasing is True : \n",
      "\n",
      " [[  1   1   1   1]\n",
      " [  1   2   4   8]\n",
      " [  1   3   9  27]\n",
      " [  1   5  25 125]]\n"
     ]
    }
   ],
   "source": [
    "# Another approach using column_stack instead of reshaape function\n",
    "def vand_mat(ip_vector, increasing=False):\n",
    "    N=ip_vector.size\n",
    "    x=ip_vector\n",
    "    if increasing== False:\n",
    "        op_matrix=np.column_stack([x**(N-i-1) for i in range(N)])\n",
    "    elif increasing == True:\n",
    "        op_matrix=np.column_stack([x**i for i in range(N)])\n",
    "    return op_matrix\n",
    "\n",
    "ip_vector= np.array([1,2,3,5])\n",
    "print(\"The input vecto is :\", ip_vector, \"\\n\")\n",
    "print(\"The size of input vector (N) is :\", ip_vector.size, '\\n')\n",
    "print(\"The Vandermonde Matrix when increasing is False : \\n\\n\",vand_mat(ip_vector, False), \"\\n\")\n",
    "print(\"The Vandermonde Matrix when increasing is True : \\n\\n\",vand_mat(ip_vector, True))"
   ]
  },
  {
   "cell_type": "markdown",
   "metadata": {},
   "source": [
    "# Question: Write a function to find moving average in an array over a window:\n",
    "Test it over [3, 5, 7, 2, 8, 10, 11, 65, 72, 81, 99, 100, 150] and window of 3.\n",
    "\n",
    "Given a sequence of n values x1, x2, ..., xn and a window size k>0, the k-th moving average of\n",
    "the given sequence is defined as follows:\n",
    "\n",
    "The moving average sequence has n-k+1 elements as shown below.\n",
    "\n",
    "The moving averages with k=4 of a ten-value sequence (n=10) is shown below\n",
    "\n",
    "i 1 2 3 4 5 6 7 8 9 10\n",
    "\n",
    "===== == == == == == == == == == ==\n",
    "\n",
    "Input 10 20 30 40 50 60 70 80 90 100\n",
    "y1 25 = (10+20+30+40)/4\n",
    "y2 35 = (20+30+40+50)/4\n",
    "y3 45 = (30+40+50+60)/4\n",
    "y4 55 = (40+50+60+70)/4\n",
    "y5 65 = (50+60+70+80)/4\n",
    "y6 75 = (60+70+80+90)/4\n",
    "y7 85 = (70+80+90+100)/4\n",
    "\n",
    "Thus, the moving average sequence has n-k+1=10-4+1=7 values."
   ]
  },
  {
   "cell_type": "code",
   "execution_count": 47,
   "metadata": {},
   "outputs": [
    {
     "name": "stdout",
     "output_type": "stream",
     "text": [
      "The test array is : [  3   5   7   2   8  10  11  65  72  81  99 100 150] \n",
      "\n",
      "The output array consisting of moving average when window value is 3 is :\n",
      " [  5.     4.67   5.67   6.67   9.67  28.67  49.33  72.67  84.    93.33\n",
      " 116.33]\n"
     ]
    }
   ],
   "source": [
    "def moving_average(n,k=3):\n",
    "    csum=np.cumsum(n)\n",
    "    csum[k:]=csum[k:]-csum[:-k]\n",
    "    return csum[k-1:]/k\n",
    "\n",
    "n=np.array([3, 5, 7, 2, 8, 10, 11, 65, 72, 81, 99, 100, 150])\n",
    "print(\"The test array is :\", n, '\\n')\n",
    "op_array=np.array(moving_average(n, k=3)).round(2)\n",
    "print(\"The output array consisting of moving average when window value is 3 is :\\n\", op_array)"
   ]
  }
 ],
 "metadata": {
  "kernelspec": {
   "display_name": "Python 3",
   "language": "python",
   "name": "python3"
  },
  "language_info": {
   "codemirror_mode": {
    "name": "ipython",
    "version": 3
   },
   "file_extension": ".py",
   "mimetype": "text/x-python",
   "name": "python",
   "nbconvert_exporter": "python",
   "pygments_lexer": "ipython3",
   "version": "3.7.3"
  }
 },
 "nbformat": 4,
 "nbformat_minor": 2
}
