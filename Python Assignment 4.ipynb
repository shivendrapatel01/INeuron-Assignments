{
 "cells": [
  {
   "cell_type": "markdown",
   "metadata": {},
   "source": [
    "# Assignment 4"
   ]
  },
  {
   "cell_type": "code",
   "execution_count": 7,
   "metadata": {},
   "outputs": [
    {
     "name": "stdout",
     "output_type": "stream",
     "text": [
      "Enter the length of 1st side :a 3\n",
      "Enter the length of 2nd side :b 4\n",
      "Enter the length of 3rd side :c 5\n",
      "The area of a triangle having side lengths a,b,c is : 6.000 cm²\n"
     ]
    }
   ],
   "source": [
    "# 1.1 Write a Python Program(with class concepts) to find the area of the triangle using the below formula.\n",
    "class Triangle:\n",
    "    def __init__(self):\n",
    "        self.a=float(input(\"Enter the length of 1st side :a \"))\n",
    "        self.b=float(input(\"Enter the length of 2nd side :b \"))\n",
    "        self.c=float(input(\"Enter the length of 3rd side :c \"))\n",
    "        \n",
    "class Area(Triangle):\n",
    "    def area(self):\n",
    "        s=(self.a+self.b+self.c)/2\n",
    "        area=(s*(s-self.a)*(s-self.b)*(s-self.c)) ** 0.5\n",
    "        print(f\"The area of a triangle having side lengths a,b,c is : {area:.3f} cm\\u00b2\")\n",
    "A1=Area()\n",
    "A1.area()"
   ]
  },
  {
   "cell_type": "code",
   "execution_count": 12,
   "metadata": {},
   "outputs": [],
   "source": [
    "# 1.2 Write a function filter_long_words() that takes a list of words and an integer n and returns \n",
    "# the list of words that are longer than n.\n",
    "lst=['shiva', 'patel', 'ram','krishna', 'sandy']\n",
    "filtered_list=[]\n",
    "def filter_long_words(n,words):\n",
    "    for i in words:\n",
    "        if len(i)>n:\n",
    "            filtered_list.append(i)\n",
    "            "
   ]
  },
  {
   "cell_type": "code",
   "execution_count": 13,
   "metadata": {},
   "outputs": [
    {
     "data": {
      "text/plain": [
       "['shiva', 'patel', 'krishna', 'sandy']"
      ]
     },
     "execution_count": 13,
     "metadata": {},
     "output_type": "execute_result"
    }
   ],
   "source": [
    "filter_long_words(4,lst)\n",
    "filtered_list"
   ]
  },
  {
   "cell_type": "code",
   "execution_count": 15,
   "metadata": {},
   "outputs": [
    {
     "data": {
      "text/plain": [
       "[5, 5, 3, 7, 8]"
      ]
     },
     "execution_count": 15,
     "metadata": {},
     "output_type": "execute_result"
    }
   ],
   "source": [
    "# 2.1 Write a Python program using function concept that maps list of words into a list of integers\n",
    "# representing the lengths of the corresponding words.\n",
    "result=[]\n",
    "def list_length(words):\n",
    "       for i in words:\n",
    "            result.append(len(i))\n",
    "            \n",
    "            \n",
    "lst=['shiva', 'patel', 'ram','krishna', 'sadhguru']           \n",
    "list_length(lst)\n",
    "result"
   ]
  },
  {
   "cell_type": "code",
   "execution_count": 17,
   "metadata": {},
   "outputs": [
    {
     "name": "stdout",
     "output_type": "stream",
     "text": [
      "Enter the character :h\n"
     ]
    },
    {
     "data": {
      "text/plain": [
       "False"
      ]
     },
     "execution_count": 17,
     "metadata": {},
     "output_type": "execute_result"
    }
   ],
   "source": [
    "# 2.2 Write a Python function which takes a character (i.e. a string of length 1) and returns True if\n",
    "# it is a vowel, False otherwise.\n",
    "\n",
    "l=['a','e','i','o','u']\n",
    "char=input('Enter the character :')\n",
    "def check_vovel(char):\n",
    "    for x in l:\n",
    "        if x==char:\n",
    "            return True\n",
    "    else:\n",
    "        return False\n",
    "check_vovel(char)"
   ]
  }
 ],
 "metadata": {
  "kernelspec": {
   "display_name": "Python 3",
   "language": "python",
   "name": "python3"
  },
  "language_info": {
   "codemirror_mode": {
    "name": "ipython",
    "version": 3
   },
   "file_extension": ".py",
   "mimetype": "text/x-python",
   "name": "python",
   "nbconvert_exporter": "python",
   "pygments_lexer": "ipython3",
   "version": "3.7.3"
  }
 },
 "nbformat": 4,
 "nbformat_minor": 2
}
